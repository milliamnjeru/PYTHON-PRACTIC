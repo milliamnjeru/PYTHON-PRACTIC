{
 "cells": [
  {
   "cell_type": "markdown",
   "metadata": {},
   "source": [
    "# Write a program that generates a random number between 1 and 100. The user has to guess the number in a limited number of attempts. Provide feedback after each guess (higher, lower, or correct)."
   ]
  },
  {
   "cell_type": "code",
   "execution_count": 2,
   "metadata": {},
   "outputs": [
    {
     "name": "stdout",
     "output_type": "stream",
     "text": [
      "Guess the number between 1 and 100. You have 10 attempts.\n",
      "Higher!\n",
      "You have 3 attempts left.\n",
      "Congratulations! You guessed the correct number.\n"
     ]
    }
   ],
   "source": [
    "import random\n",
    "\n",
    "\n",
    "def random_game():\n",
    "    number_to_guess = random.randint(1, 100)\n",
    "    attempts = 4  \n",
    "\n",
    "    print(\"Guess the number between 1 and 100. You have 4 attempts.\")\n",
    "\n",
    "    while attempts > 0:\n",
    "        guess = int(input(\"Enter your guess: \"))\n",
    "\n",
    "        if guess < number_to_guess:\n",
    "            print(\"Higher!\")\n",
    "        elif guess > number_to_guess:\n",
    "            print(\"Lower!\")\n",
    "        else:\n",
    "            print(\"Congratulations! You guessed the correct number.\")\n",
    "            return\n",
    "\n",
    "        attempts -= 1 # '-=' to decrease the number of attempts by 1 each time a value is executed.\n",
    "        print(f\"You have {attempts} attempts left.\")\n",
    "\n",
    "    print(f\"Sorry, you've run out of attempts. The number was {number_to_guess}.\")\n",
    "\n",
    "\n",
    "random_game()"
   ]
  },
  {
   "cell_type": "markdown",
   "metadata": {},
   "source": [
    "# Write a program that allows the user to enter two numbers and an operator (+, -, *, /) and perform the corresponding calculation. Use conditional statements to handle different operators"
   ]
  },
  {
   "cell_type": "code",
   "execution_count": 5,
   "metadata": {},
   "outputs": [
    {
     "name": "stdout",
     "output_type": "stream",
     "text": [
      "Result: 600.0\n"
     ]
    }
   ],
   "source": [
    "def calculator():\n",
    "    num1 = float(input(\"Enter first number: \"))\n",
    "    operator = input(\"Enter operator (+, -, *, /): \")\n",
    "    num2 = float(input(\"Enter second number: \"))\n",
    "\n",
    "    if operator == \"+\":\n",
    "        result = num1 + num2\n",
    "    elif operator == \"-\":\n",
    "        result = num1 - num2\n",
    "    elif operator == \"*\":\n",
    "        result = num1 * num2\n",
    "    elif operator == \"/\":\n",
    "        if num2 != 0:\n",
    "            result = num1 / num2\n",
    "        else:\n",
    "            result = \"incorrect! Division by zero.\"\n",
    "    else:\n",
    "        result = \"Invalid operator.\"\n",
    "\n",
    "    print(\"Result:\", result)\n",
    "\n",
    "\n",
    "calculator()"
   ]
  },
  {
   "cell_type": "markdown",
   "metadata": {},
   "source": [
    "# Write a program that uses a while loop to check if a number entered by the user is a prime number (divisible only by 1 and itself)."
   ]
  },
  {
   "cell_type": "code",
   "execution_count": 14,
   "metadata": {},
   "outputs": [
    {
     "name": "stdout",
     "output_type": "stream",
     "text": [
      "3 is a prime number.\n"
     ]
    }
   ],
   "source": [
    "def is_prime():\n",
    "    num = int(input(\"Enter a number: \"))\n",
    "\n",
    "    if num <= 1:\n",
    "        print(f\"{num} is not a prime number.\")\n",
    "        return\n",
    "\n",
    "    is_prime = True\n",
    "    i = 2\n",
    "    while i <= num // 2:# by using 1 it only checks the divisibility factor alone and not prime factor \n",
    "        if num % i == 0:\n",
    "            is_prime = False\n",
    "            break\n",
    "        i += 1\n",
    "\n",
    "    if is_prime:\n",
    "        print(f\"{num} is a prime number.\")\n",
    "    else:\n",
    "        print(f\"{num} is not a prime number.\")\n",
    "\n",
    "\n",
    "is_prime()"
   ]
  },
  {
   "cell_type": "markdown",
   "metadata": {},
   "source": [
    "# Write a program that uses a for loop to print the multiplication table of a number entered by the user (up to a specified number of multiples)."
   ]
  },
  {
   "cell_type": "code",
   "execution_count": 18,
   "metadata": {},
   "outputs": [
    {
     "name": "stdout",
     "output_type": "stream",
     "text": [
      "2 x 1 = 2\n",
      "2 x 2 = 4\n",
      "2 x 3 = 6\n",
      "2 x 4 = 8\n",
      "2 x 5 = 10\n",
      "2 x 6 = 12\n",
      "2 x 7 = 14\n",
      "2 x 8 = 16\n",
      "2 x 9 = 18\n",
      "2 x 10 = 20\n"
     ]
    }
   ],
   "source": [
    "def multiplication_table():\n",
    "    num = int(input(\"Enter a number: \"))\n",
    "    multiples = int(input(\"Enter the number of multiples: \"))\n",
    "\n",
    "    for r in range(1, multiples + 1):\n",
    "        print(f\"{num} x {r} = {num * r}\")\n",
    "\n",
    "\n",
    "multiplication_table()"
   ]
  },
  {
   "cell_type": "markdown",
   "metadata": {},
   "source": [
    "# Write a program that uses a for loop to calculate the sum of numbers from 1 to a given number entered by the user."
   ]
  },
  {
   "cell_type": "code",
   "execution_count": 23,
   "metadata": {},
   "outputs": [
    {
     "name": "stdout",
     "output_type": "stream",
     "text": [
      "The sum of numbers from 4 to 9 is 72.\n"
     ]
    }
   ],
   "source": [
    "def sum_numbers():\n",
    "    num = int(input(\"number: \"))\n",
    "    total_sum = 0\n",
    "\n",
    "    for r in range(4, num + 4):\n",
    "        total_sum += r\n",
    "\n",
    "    print(f\"The sum of numbers from 4 to {num} is {total_sum}.\")\n",
    "\n",
    "\n",
    "sum_numbers() # loop end before it include the (num+4)"
   ]
  },
  {
   "cell_type": "markdown",
   "metadata": {},
   "source": [
    "# Write a program that uses a for loop to print a pattern of stars or characters like a triangle."
   ]
  },
  {
   "cell_type": "code",
   "execution_count": 26,
   "metadata": {},
   "outputs": [
    {
     "name": "stdout",
     "output_type": "stream",
     "text": [
      "***\n",
      "****\n",
      "*****\n",
      "******\n"
     ]
    }
   ],
   "source": [
    "def star():\n",
    "    rows = int(input(\"Enter the number of rows: \"))\n",
    "\n",
    "    for r in range(3, rows + 3):\n",
    "        for j in range(r):\n",
    "            print(\"*\", end=\"\")\n",
    "        print()\n",
    "\n",
    "\n",
    "star()"
   ]
  },
  {
   "cell_type": "markdown",
   "metadata": {},
   "source": [
    "# Write a program that uses a while loop to generate a random number between 1 and 100. The user has to guess the number within a limited number of attempts. Provide feedback after each guess."
   ]
  },
  {
   "cell_type": "code",
   "execution_count": 27,
   "metadata": {},
   "outputs": [
    {
     "name": "stdout",
     "output_type": "stream",
     "text": [
      "Guess the number between 1 and 100. You have 4 attempts.\n",
      "Higher!\n",
      "You have 3 attempts left.\n",
      "Higher!\n",
      "You have 2 attempts left.\n",
      "Higher!\n",
      "You have 1 attempts left.\n",
      "Higher!\n",
      "You have 0 attempts left.\n",
      "Sorry, you've run out of attempts. The number was 92.\n"
     ]
    }
   ],
   "source": [
    "import random\n",
    "\n",
    "\n",
    "def guess_game_while():\n",
    "    number_to_guess = random.randint(1, 100)\n",
    "    attempts = 4\n",
    "\n",
    "    print(\"Guess the number between 1 and 100. You have 4 attempts.\")\n",
    "\n",
    "    while attempts > 0:\n",
    "        guess = int(input(\"Enter your guess: \"))\n",
    "\n",
    "        if guess < number_to_guess:\n",
    "            print(\"Higher!\")\n",
    "        elif guess > number_to_guess:\n",
    "            print(\"Lower!\")\n",
    "        else:\n",
    "            print(\"Congratulations! You guessed the correct number.\")\n",
    "            return\n",
    "\n",
    "        attempts -= 1 # after every execution it decreses with 1\n",
    "        print(f\"You have {attempts} attempts left.\")\n",
    "\n",
    "    print(f\"Sorry, you've run out of attempts. The number was {number_to_guess}.\")\n",
    "\n",
    "\n",
    "guess_game_while()"
   ]
  }
 ],
 "metadata": {
  "kernelspec": {
   "display_name": "Python 3",
   "language": "python",
   "name": "python3"
  },
  "language_info": {
   "codemirror_mode": {
    "name": "ipython",
    "version": 3
   },
   "file_extension": ".py",
   "mimetype": "text/x-python",
   "name": "python",
   "nbconvert_exporter": "python",
   "pygments_lexer": "ipython3",
   "version": "3.12.3"
  }
 },
 "nbformat": 4,
 "nbformat_minor": 2
}

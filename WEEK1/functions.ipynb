{
 "cells": [
  {
   "cell_type": "code",
   "execution_count": 15,
   "metadata": {},
   "outputs": [
    {
     "name": "stdout",
     "output_type": "stream",
     "text": [
      "The number -3 is Negative\n"
     ]
    }
   ],
   "source": [
    "num_str=input('enter a number:')\n",
    "num = int(num_str)\n",
    "\n",
    "def check_positive_or_negative(number):\n",
    "    if number > 0:\n",
    "        return \"Positive\"\n",
    "    elif number < 0:\n",
    "        return \"Negative\"\n",
    "    else:\n",
    "        return \"Zero\"\n",
    "\n",
    "result = check_positive_or_negative(num)\n",
    "print(f\"The number {num} is {result}\")"
   ]
  },
  {
   "cell_type": "markdown",
   "metadata": {},
   "source": [
    "# Write functions to calculate the area of different shapes like square (area_of_square(side_length)), rectangle (area_of_rectangle(length, width)), and circle (area_of_circle(radius))."
   ]
  },
  {
   "cell_type": "code",
   "execution_count": 21,
   "metadata": {},
   "outputs": [
    {
     "name": "stdout",
     "output_type": "stream",
     "text": [
      "Area of the square with side length 34: 1156\n",
      "Area of the rectangle with length 24 and width 12: 288\n",
      "Area of the circle with radius 20.56: 1327.993940332494\n"
     ]
    }
   ],
   "source": [
    "import math\n",
    "\n",
    "\n",
    "square_str = input(\"Enter the side length of the square: \")\n",
    "rect_length_str = input(\"Enter the length of the rectangle: \")\n",
    "rect_width_str = input(\"Enter the width of the rectangle: \")\n",
    "circle_radius_str = input(\"Enter the radius of the circle: \")\n",
    "\n",
    "\n",
    "side_length = int(square_str)\n",
    "rect_length = int(rect_length_str)\n",
    "rect_width = int(rect_width_str)\n",
    "circle_radius = float(circle_radius_str)  # Use float for radius as it can be a decimal or whole number\n",
    "\n",
    "\n",
    "\n",
    "def area_of_square(side_length):\n",
    "    return side_length * side_length\n",
    "def area_of_rectangle(length, width):\n",
    "    return length * width\n",
    "def area_of_circle(radius):\n",
    "    return math.pi * (radius**2)\n",
    "\n",
    "\n",
    "square_area = area_of_square(side_length)\n",
    "rectangle_area = area_of_rectangle(rect_length, rect_width)\n",
    "circle_area = area_of_circle(circle_radius)\n",
    "print(f\"Area of the square with side length {side_length}: {square_area}\")\n",
    "\n",
    "print(f\"Area of the rectangle with length {rect_length} and width {rect_width}: {rectangle_area}\")\n",
    "\n",
    "print(f\"Area of the circle with radius {circle_radius}: {circle_area}\")"
   ]
  },
  {
   "cell_type": "markdown",
   "metadata": {},
   "source": [
    "# Write a function called calculate_grade that takes a score as input and returns the corresponding letter grade (A, B, C, D, F) based on a grading scale (e.g., A: 90-100, B: 80-89, etc.)."
   ]
  },
  {
   "cell_type": "code",
   "execution_count": 25,
   "metadata": {},
   "outputs": [
    {
     "name": "stdout",
     "output_type": "stream",
     "text": [
      "enter the score 70 is C\n"
     ]
    }
   ],
   "source": [
    "scores=int(input('enter the score '))\n",
    "\n",
    "def calculate_grade(scores):\n",
    "    if scores >= 90:\n",
    "        return \"A\"\n",
    "    elif scores >= 80:\n",
    "        return \"B\"\n",
    "    elif scores >= 70:\n",
    "        return \"C\"\n",
    "    elif scores >= 60:\n",
    "        return \"D\"\n",
    "    else:\n",
    "        return \"F\"\n",
    "    \n",
    "grade=calculate_grade(scores)  \n",
    "print(f'enter the score {scores} is {grade}')  \n"
   ]
  }
 ],
 "metadata": {
  "kernelspec": {
   "display_name": "Python 3",
   "language": "python",
   "name": "python3"
  },
  "language_info": {
   "codemirror_mode": {
    "name": "ipython",
    "version": 3
   },
   "file_extension": ".py",
   "mimetype": "text/x-python",
   "name": "python",
   "nbconvert_exporter": "python",
   "pygments_lexer": "ipython3",
   "version": "3.12.3"
  }
 },
 "nbformat": 4,
 "nbformat_minor": 2
}

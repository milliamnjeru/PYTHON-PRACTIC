{
 "cells": [
  {
   "cell_type": "code",
   "execution_count": 59,
   "metadata": {},
   "outputs": [
    {
     "name": "stdout",
     "output_type": "stream",
     "text": [
      "The string '39009641Milliam' contains only alphanumeric characters.\n"
     ]
    }
   ],
   "source": [
    "import re\n",
    "\n",
    "\n",
    "def match_pattern(str):\n",
    "    pattern = r\"^[a-zA-Z0-9]+$\" #+ is a meta character that that matches one or more occurence of preceeding elements\n",
    "    return re.match(pattern, str) \n",
    "\n",
    "\n",
    "\n",
    "test_string1 = \"39009641Milliam\"\n",
    "test_string2='i love maths'\n",
    "if match_pattern(test_string1):\n",
    "    print(f\"The string '{test_string1}' contains only alphanumeric characters.\")\n",
    "else:\n",
    "    print(f\"The string '{test_string1}contains characters other than alphanumeric.\")"
   ]
  },
  {
   "cell_type": "markdown",
   "metadata": {},
   "source": [
    "## A Python program that matches a string that has an ‘a’ followed by anything, ending in ‘b’."
   ]
  },
  {
   "cell_type": "code",
   "execution_count": 46,
   "metadata": {},
   "outputs": [
    {
     "name": "stdout",
     "output_type": "stream",
     "text": [
      "The string 'apple' does not match the pattern.\n"
     ]
    }
   ],
   "source": [
    "import re\n",
    "\n",
    "def match_pattern(str):\n",
    "    pattern = r\"^a.*b$\"\n",
    "    return re.match(pattern, str) \n",
    "\n",
    "test_string = \"apple\"\n",
    "if match_pattern(test_string):\n",
    "    print(f\"The string '{test_string}' matches the pattern.\")\n",
    "else:\n",
    "    print(f\"The string '{test_string}' does not match the pattern.\")"
   ]
  },
  {
   "cell_type": "markdown",
   "metadata": {},
   "source": [
    "##Write a program that uses regex to validate user input. Examples:\n",
    "  -Check if a password meets certain criteria (e.g., minimum length, containing uppercase and lowercase letters).\n",
    " -Validate a date format (e.g., DD/MM/YYYY)."
   ]
  },
  {
   "cell_type": "code",
   "execution_count": 73,
   "metadata": {},
   "outputs": [
    {
     "name": "stdout",
     "output_type": "stream",
     "text": [
      "The password 'Password' meets the criteria.\n",
      "The password 'Password' does not meet the criteria.\n"
     ]
    }
   ],
   "source": [
    "import re\n",
    "\n",
    "\n",
    "def match_password(str):\n",
    "    pattern = r\"^(?=.*[a-z])(*[A-Z])(?=.*\\d).{8,}$\"\n",
    "    return  (pattern, str) \n",
    "\n",
    "\n",
    "\n",
    "test_password = \"Password\"\n",
    "print(f\"The password '{test_password}' meets the criteria.\")\n",
    "\n",
    "print(f\"The password '{test_password}' does not meet the criteria.\")"
   ]
  },
  {
   "cell_type": "markdown",
   "metadata": {},
   "source": [
    "## Write a program that uses regex to validate user input. Examples:\n",
    "Check if a password meets certain criteria (e.g., minimum length, containing uppercase and lowercase letters).\n",
    "Validate a date format (e.g., DD/MM/YYYY).\n"
   ]
  },
  {
   "cell_type": "code",
   "execution_count": 74,
   "metadata": {},
   "outputs": [
    {
     "name": "stdout",
     "output_type": "stream",
     "text": [
      "The date '31/09/2024' is in valid DD/MM/YYYY format.\n"
     ]
    }
   ],
   "source": [
    "import re\n",
    "\n",
    "test_date = \"31/09/2024\"\n",
    "if date(test_date):\n",
    "    print(f\"The date '{test_date}' is in valid DD/MM/YYYY format.\")\n",
    "else:\n",
    "    print(f\"The date '{test_date}' is not in valid DD/MM/YYYY format.\")"
   ]
  },
  {
   "cell_type": "markdown",
   "metadata": {},
   "source": [
    "## Write a program that uses regex to search for and replace text in a string. Example:\n",
    "- Replace all occurrences of “Mr.” with “Ms.”: text.replace(r”Mr.”, “Ms.”) (r prefix for raw string)"
   ]
  },
  {
   "cell_type": "code",
   "execution_count": 75,
   "metadata": {},
   "outputs": [
    {
     "name": "stdout",
     "output_type": "stream",
     "text": [
      "Original text: Mr.john and Ms.Joe doe met at the Delloite \n",
      " text: Ms.john and Ms.Joe doe met at the Delloite \n"
     ]
    }
   ],
   "source": [
    "import re\n",
    "\n",
    "\n",
    "input_text = \"Mr.john and Ms.Joe doe met at the Delloite \"\n",
    "\n",
    "\n",
    "text = re.sub(r'\\bMr\\.\\b', 'Ms.', input_text)\n",
    "print(\"Original text:\", input_text)\n",
    "print(\" text:\", text)\n"
   ]
  }
 ],
 "metadata": {
  "kernelspec": {
   "display_name": "base",
   "language": "python",
   "name": "python3"
  },
  "language_info": {
   "codemirror_mode": {
    "name": "ipython",
    "version": 3
   },
   "file_extension": ".py",
   "mimetype": "text/x-python",
   "name": "python",
   "nbconvert_exporter": "python",
   "pygments_lexer": "ipython3",
   "version": "3.9.13"
  }
 },
 "nbformat": 4,
 "nbformat_minor": 2
}

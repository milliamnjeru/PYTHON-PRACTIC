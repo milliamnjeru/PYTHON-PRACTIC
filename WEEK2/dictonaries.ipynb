{
 "cells": [
  {
   "cell_type": "markdown",
   "metadata": {},
   "source": [
    "## sum up all the items in a dictionary."
   ]
  },
  {
   "cell_type": "code",
   "execution_count": 4,
   "metadata": {},
   "outputs": [
    {
     "name": "stdout",
     "output_type": "stream",
     "text": [
      "Sum of all values in the dictionary: 1000\n"
     ]
    }
   ],
   "source": [
    "def sum_dict_values(input_dict):\n",
    "    total_sum = sum(input_dict.values())\n",
    "    return total_sum\n",
    "\n",
    "\n",
    "my_dict = {\"a\": 200, \"b\": 500, \"c\": 300}\n",
    "total = sum_dict_values(my_dict)\n",
    "print(\"Sum of all values in the dictionary:\", total)"
   ]
  },
  {
   "cell_type": "markdown",
   "metadata": {},
   "source": [
    "##Create a dictionary to store product information (name, price, quantity). Allow users to add, update, and remove items from the inventory."
   ]
  },
  {
   "cell_type": "code",
   "execution_count": 6,
   "metadata": {},
   "outputs": [
    {
     "name": "stdout",
     "output_type": "stream",
     "text": [
      " inventory: {'banana': {'price': 2.0, 'quantity': 200}, 'pineapple': {'price': 3.0, 'quantity': 350}}\n",
      "update inventory: {'banana': {'price': 2.0, 'quantity': 200}}\n"
     ]
    }
   ],
   "source": [
    "inventory = {}\n",
    "\n",
    "def add(name, price, quantity):\n",
    "    inventory[name] = {\"price\": price, \"quantity\": quantity}\n",
    "\n",
    "\n",
    "def remove_product(name):\n",
    "    if name in inventory:\n",
    "        del inventory[name]\n",
    "    else:\n",
    "        print(f\"{name} is not found in inventory.\")\n",
    "\n",
    "add(\"banana\", 2.00, 200)\n",
    "add(\"pineapple\", 3.00, 350)\n",
    "\n",
    "print(\" inventory:\", inventory)\n",
    "\n",
    "add(\"banana\", 2.00, 200)\n",
    "\n",
    "remove_product(\"pineapple\")\n",
    "\n",
    "print(\"update inventory:\", inventory)"
   ]
  },
  {
   "cell_type": "markdown",
   "metadata": {},
   "source": [
    "##a dictionary where keys are departments in a company and values are nested dictionaries containing employee information (name, role)."
   ]
  },
  {
   "cell_type": "code",
   "execution_count": 5,
   "metadata": {},
   "outputs": [
    {
     "name": "stdout",
     "output_type": "stream",
     "text": [
      "Employee information in HR department: {'joe': 'director', 'doe': 'intern'}\n",
      "Updated company departments: {'HR': {'joe': 'director', 'doe': 'intern'}, 'IT': {'milliam': 'Senior Developer', 'Roy': 'consultant'}, 'Marketing': {'kim': 'Analyst', 'Frank': 'Designer'}, 'Sales': {'Grace': 'Sales Manager'}}\n",
      "Updated company departments: {'HR': {'joe': 'director', 'doe': 'intern'}, 'IT': {'milliam': 'Senior Developer', 'Roy': 'consultant', 'Charlie': 'Senior Developer'}, 'Marketing': {'kim': 'Analyst', 'Frank': 'Designer'}, 'Sales': {'Grace': 'Sales Manager'}}\n"
     ]
    }
   ],
   "source": [
    "company_departments = {\n",
    "    \"HR\": {\"joe\":\"director\", \"doe\": \"intern\"},\n",
    "    \"IT\": {\"milliam\": \"Developer\", \"Roy\": \"consultant\"},\n",
    "    \"Marketing\": {\"kim\": \"Analyst\", \"Frank\": \"Designer\"},\n",
    "}\n",
    "\n",
    "\n",
    "print(\"Employee information in HR department:\", company_departments[\"HR\"])\n",
    "\n",
    "\n",
    "company_departments['Sales'] = {'Grace': 'Sales Manager'}\n",
    "\n",
    "\n",
    "company_departments['IT']['milliam'] = 'Senior Developer'\n",
    "\n",
    "print(\"Updated company departments:\", company_departments)\n",
    "company_departments[\"Sales\"] = {\"Grace\": \"Sales Manager\"}\n",
    "\n",
    "\n",
    "company_departments[\"IT\"][\"Charlie\"] = \"Senior Developer\"\n",
    "\n",
    "print(\"Updated company departments:\", company_departments)"
   ]
  },
  {
   "cell_type": "code",
   "execution_count": 14,
   "metadata": {},
   "outputs": [
    {
     "name": "stdout",
     "output_type": "stream",
     "text": [
      "HR\n",
      "{'joe': 'director', 'doe': 'intern'}\n",
      "IT\n",
      "{'milliam': 'Developer', 'Roy': 'consultant'}\n",
      "Marketing\n",
      "{'kim': 'Analyst', 'Frank': 'Designer'}\n"
     ]
    }
   ],
   "source": [
    "company_departments = {\n",
    "    \"HR\": {\"joe\": \"director\", \"doe\": \"intern\"},\n",
    "    \"IT\": {\"milliam\": \"Developer\", \"Roy\": \"consultant\"},\n",
    "    \"Marketing\": {\"kim\": \"Analyst\", \"Frank\": \"Designer\"},\n",
    "}\n",
    "for a,b in company_departments.items():\n",
    "    if company_departments:{a}\n",
    "    print(a)\n",
    "    print(b)"
   ]
  },
  {
   "cell_type": "markdown",
   "metadata": {},
   "source": [
    "##to create a new set that contains the identical items from two given sets.\n",
    "\n",
    "Return the identical elements in the two given sets.\n",
    "For inputs with sets {1, 2, 3, 4} and {3, 4, 5, 6}, the return value should be either {3, 4} or {4, 3}."
   ]
  },
  {
   "cell_type": "code",
   "execution_count": 20,
   "metadata": {},
   "outputs": [
    {
     "name": "stdout",
     "output_type": "stream",
     "text": [
      "Identical items in the two sets: {3, 4}\n"
     ]
    }
   ],
   "source": [
    "def find_identical_items(set1, set2):\n",
    "    identical_items = set1&set2\n",
    "    return identical_items\n",
    "\n",
    "set1 = {1, 2, 3, 4}\n",
    "set2 = {3, 4, 5, 6}\n",
    "identical = find_identical_items(set1, set2)\n",
    "print(\"Identical items in the two sets:\", identical)"
   ]
  },
  {
   "cell_type": "code",
   "execution_count": null,
   "metadata": {},
   "outputs": [],
   "source": [
    "list=[3,4,5,6]\n",
    "my_dict={[list]}"
   ]
  },
  {
   "cell_type": "markdown",
   "metadata": {},
   "source": [
    "#dictionaries-collection of objects\n",
    "#curly brackets are used\n",
    "#we use the dict function\n",
    "#sets;-immutable\n",
    "#no duplication"
   ]
  }
 ],
 "metadata": {
  "kernelspec": {
   "display_name": "base",
   "language": "python",
   "name": "python3"
  },
  "language_info": {
   "codemirror_mode": {
    "name": "ipython",
    "version": 3
   },
   "file_extension": ".py",
   "mimetype": "text/x-python",
   "name": "python",
   "nbconvert_exporter": "python",
   "pygments_lexer": "ipython3",
   "version": "3.9.13"
  }
 },
 "nbformat": 4,
 "nbformat_minor": 2
}

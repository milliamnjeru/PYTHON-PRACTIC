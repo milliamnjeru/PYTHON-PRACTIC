{
 "cells": [
  {
   "cell_type": "code",
   "execution_count": 2,
   "metadata": {},
   "outputs": [],
   "source": [
    "from pymongo import MongoClient"
   ]
  },
  {
   "cell_type": "code",
   "execution_count": 3,
   "metadata": {},
   "outputs": [],
   "source": [
    "client=MongoClient('localhost',27017)"
   ]
  },
  {
   "cell_type": "code",
   "execution_count": 4,
   "metadata": {},
   "outputs": [],
   "source": [
    "db=client.trial"
   ]
  },
  {
   "cell_type": "code",
   "execution_count": 5,
   "metadata": {},
   "outputs": [
    {
     "data": {
      "text/plain": [
       "Database(MongoClient(host=['localhost:27017'], document_class=dict, tz_aware=False, connect=True), 'trial')"
      ]
     },
     "execution_count": 5,
     "metadata": {},
     "output_type": "execute_result"
    }
   ],
   "source": [
    "db"
   ]
  },
  {
   "cell_type": "code",
   "execution_count": 7,
   "metadata": {},
   "outputs": [
    {
     "data": {
      "text/plain": [
       "['admin', 'config', 'ecommerce_db', 'local', 'trial']"
      ]
     },
     "execution_count": 7,
     "metadata": {},
     "output_type": "execute_result"
    }
   ],
   "source": [
    "client.list_database_names()"
   ]
  },
  {
   "cell_type": "code",
   "execution_count": 16,
   "metadata": {},
   "outputs": [],
   "source": [
    "students=db.students"
   ]
  },
  {
   "cell_type": "code",
   "execution_count": 9,
   "metadata": {},
   "outputs": [
    {
     "data": {
      "text/plain": [
       "10"
      ]
     },
     "execution_count": 9,
     "metadata": {},
     "output_type": "execute_result"
    }
   ],
   "source": [
    "students.count_documents({})"
   ]
  },
  {
   "cell_type": "code",
   "execution_count": 10,
   "metadata": {},
   "outputs": [
    {
     "data": {
      "text/plain": [
       "<pymongo.cursor.Cursor at 0x15c32d4fda0>"
      ]
     },
     "execution_count": 10,
     "metadata": {},
     "output_type": "execute_result"
    }
   ],
   "source": [
    "students.find()"
   ]
  },
  {
   "cell_type": "markdown",
   "metadata": {},
   "source": [
    "# Write a query to find all students who are 14 years old."
   ]
  },
  {
   "cell_type": "code",
   "execution_count": 11,
   "metadata": {},
   "outputs": [
    {
     "name": "stdout",
     "output_type": "stream",
     "text": [
      "{'_id': ObjectId('667e326fe30435b684589f56'), 'student_id': 1, 'name': 'Alice', 'age': 14, 'gender': 'Female', 'grade': 'A', 'subjects': ['Math', 'Science', 'English'], 'score': {'Math': 95, 'Science': 88, 'English': 92}}\n",
      "{'_id': ObjectId('667e326fe30435b684589f58'), 'student_id': 3, 'name': 'Charlie', 'age': 14, 'gender': 'Male', 'grade': 'C', 'subjects': ['Science', 'History', 'English'], 'score': {'Science': 72, 'History': 68, 'English': 80}}\n",
      "{'_id': ObjectId('667e326fe30435b684589f5b'), 'student_id': 6, 'name': 'Fiona', 'age': 14, 'gender': 'Female', 'grade': 'A', 'subjects': ['Math', 'Science', 'History'], 'score': {'Math': 92, 'Science': 90, 'History': 88}}\n",
      "{'_id': ObjectId('667e326fe30435b684589f5e'), 'student_id': 9, 'name': 'Ian', 'age': 14, 'gender': 'Male', 'grade': 'A', 'subjects': ['English', 'Math', 'Science'], 'score': {'English': 90, 'Math': 94, 'Science': 89}}\n"
     ]
    }
   ],
   "source": [
    "below_14=students.find({'age':14})\n",
    "for s in below_14:\n",
    "    print(s)"
   ]
  },
  {
   "cell_type": "markdown",
   "metadata": {},
   "source": [
    "# Write a query to find all female students."
   ]
  },
  {
   "cell_type": "code",
   "execution_count": 12,
   "metadata": {},
   "outputs": [
    {
     "name": "stdout",
     "output_type": "stream",
     "text": [
      "{'_id': ObjectId('667e326fe30435b684589f56'), 'student_id': 1, 'name': 'Alice', 'age': 14, 'gender': 'Female', 'grade': 'A', 'subjects': ['Math', 'Science', 'English'], 'score': {'Math': 95, 'Science': 88, 'English': 92}}\n",
      "{'_id': ObjectId('667e326fe30435b684589f5a'), 'student_id': 5, 'name': 'Eva', 'age': 15, 'gender': 'Female', 'grade': 'B', 'subjects': ['English', 'History'], 'score': {'English': 85, 'History': 78}}\n",
      "{'_id': ObjectId('667e326fe30435b684589f5b'), 'student_id': 6, 'name': 'Fiona', 'age': 14, 'gender': 'Female', 'grade': 'A', 'subjects': ['Math', 'Science', 'History'], 'score': {'Math': 92, 'Science': 90, 'History': 88}}\n",
      "{'_id': ObjectId('667e326fe30435b684589f5d'), 'student_id': 8, 'name': 'Hannah', 'age': 15, 'gender': 'Female', 'grade': 'B', 'subjects': ['Science', 'History', 'Math'], 'score': {'Science': 80, 'History': 75, 'Math': 85}}\n",
      "{'_id': ObjectId('667e326fe30435b684589f5f'), 'student_id': 10, 'name': 'Jane', 'age': 16, 'gender': 'Female', 'grade': 'C', 'subjects': ['History', 'Math'], 'score': {'History': 65, 'Math': 60}}\n"
     ]
    }
   ],
   "source": [
    "Female=students.find({'gender':'Female'})\n",
    "for f in Female:\n",
    "    print(f)"
   ]
  },
  {
   "cell_type": "markdown",
   "metadata": {},
   "source": [
    "# count of females"
   ]
  },
  {
   "cell_type": "code",
   "execution_count": 13,
   "metadata": {},
   "outputs": [
    {
     "data": {
      "text/plain": [
       "5"
      ]
     },
     "execution_count": 13,
     "metadata": {},
     "output_type": "execute_result"
    }
   ],
   "source": [
    "students.count_documents({'gender':'Female'})"
   ]
  },
  {
   "cell_type": "markdown",
   "metadata": {},
   "source": [
    "# Write a query to find students who scored more than 90 in Math."
   ]
  },
  {
   "cell_type": "code",
   "execution_count": 19,
   "metadata": {},
   "outputs": [
    {
     "name": "stdout",
     "output_type": "stream",
     "text": [
      "{'_id': ObjectId('667e326fe30435b684589f56'), 'student_id': 1, 'name': 'Alice', 'age': 14, 'gender': 'Female', 'grade': 'A', 'subjects': ['Math', 'Science', 'English'], 'score': {'Math': 95, 'Science': 88, 'English': 92}}\n",
      "{'_id': ObjectId('667e326fe30435b684589f5b'), 'student_id': 6, 'name': 'Fiona', 'age': 14, 'gender': 'Female', 'grade': 'A', 'subjects': ['Math', 'Science', 'History'], 'score': {'Math': 92, 'Science': 90, 'History': 88}}\n",
      "{'_id': ObjectId('667e326fe30435b684589f5e'), 'student_id': 9, 'name': 'Ian', 'age': 14, 'gender': 'Male', 'grade': 'A', 'subjects': ['English', 'Math', 'Science'], 'score': {'English': 90, 'Math': 94, 'Science': 89}}\n"
     ]
    }
   ],
   "source": [
    "gt_ninety=students.find({\"score.Math\":{\"$gt\":90}})\n",
    "for std in gt_ninety:\n",
    "    print(std)"
   ]
  },
  {
   "cell_type": "markdown",
   "metadata": {},
   "source": [
    "# student_id"
   ]
  },
  {
   "cell_type": "code",
   "execution_count": 24,
   "metadata": {},
   "outputs": [
    {
     "name": "stdout",
     "output_type": "stream",
     "text": [
      "1\n",
      "6\n",
      "9\n"
     ]
    }
   ],
   "source": [
    "gt_ninety=students.find({'score.Math':{\"$gt\":90}})\n",
    "for s in gt_ninety:\n",
    "    print(s['student_id'])"
   ]
  },
  {
   "cell_type": "markdown",
   "metadata": {},
   "source": [
    "# Write a query to find all students but only return their name and age."
   ]
  },
  {
   "cell_type": "code",
   "execution_count": 22,
   "metadata": {},
   "outputs": [
    {
     "name": "stdout",
     "output_type": "stream",
     "text": [
      "{'_id': ObjectId('667e326fe30435b684589f56'), 'age': 14}\n",
      "{'_id': ObjectId('667e326fe30435b684589f57'), 'age': 15}\n",
      "{'_id': ObjectId('667e326fe30435b684589f58'), 'age': 14}\n",
      "{'_id': ObjectId('667e326fe30435b684589f59'), 'age': 16}\n",
      "{'_id': ObjectId('667e326fe30435b684589f5a'), 'age': 15}\n",
      "{'_id': ObjectId('667e326fe30435b684589f5b'), 'age': 14}\n",
      "{'_id': ObjectId('667e326fe30435b684589f5c'), 'age': 16}\n",
      "{'_id': ObjectId('667e326fe30435b684589f5d'), 'age': 15}\n",
      "{'_id': ObjectId('667e326fe30435b684589f5e'), 'age': 14}\n",
      "{'_id': ObjectId('667e326fe30435b684589f5f'), 'age': 16}\n"
     ]
    }
   ],
   "source": [
    "all_students=students.find({},{\"names\":1,\"age\":1})\n",
    "for std in all_students:\n",
    "    print(std)"
   ]
  },
  {
   "cell_type": "markdown",
   "metadata": {},
   "source": [
    "# Write a query to update Bob's grade to \"A\"."
   ]
  },
  {
   "cell_type": "code",
   "execution_count": 28,
   "metadata": {},
   "outputs": [
    {
     "name": "stdout",
     "output_type": "stream",
     "text": [
      "UpdateResult({'n': 1, 'nModified': 0, 'ok': 1.0, 'updatedExisting': True}, acknowledged=True)\n"
     ]
    }
   ],
   "source": [
    "bob=students.update_one({'name':'Bob'},{'$set':{'grade':'A'}})\n",
    "print(bob)\n"
   ]
  },
  {
   "cell_type": "code",
   "execution_count": 30,
   "metadata": {},
   "outputs": [
    {
     "name": "stdout",
     "output_type": "stream",
     "text": [
      "{'_id': ObjectId('667e326fe30435b684589f57'), 'student_id': 2, 'name': 'Bob', 'age': 15, 'gender': 'Male', 'grade': 'A', 'subjects': ['Math', 'History'], 'score': {'Math': 78, 'History': 85}}\n"
     ]
    }
   ],
   "source": [
    "Bob=students.find_one({'name':\"Bob\"})\n",
    "print(Bob)"
   ]
  },
  {
   "cell_type": "markdown",
   "metadata": {},
   "source": [
    "# Write a query to delete all students who are in grade \"C\"."
   ]
  },
  {
   "cell_type": "code",
   "execution_count": 88,
   "metadata": {},
   "outputs": [
    {
     "name": "stdout",
     "output_type": "stream",
     "text": [
      "<pymongo.cursor.Cursor object at 0x0000015C3423F4D0>\n"
     ]
    }
   ],
   "source": [
    "grade = students.delete_many({'grade':'C'})\n",
    "results=students.find({})\n",
    "print(results)\n"
   ]
  },
  {
   "cell_type": "code",
   "execution_count": 90,
   "metadata": {},
   "outputs": [
    {
     "name": "stdout",
     "output_type": "stream",
     "text": [
      "{'_id': ObjectId('667e326fe30435b684589f56'), 'student_id': 1, 'name': 'Alice', 'age': 14, 'gender': 'Female', 'grade': 'A', 'subjects': ['Math', 'Science', 'English'], 'score': {'Math': 95, 'Science': 88, 'English': 92}}\n",
      "{'_id': ObjectId('667e326fe30435b684589f57'), 'student_id': 2, 'name': 'Bob', 'age': 15, 'gender': 'Male', 'grade': 'A', 'subjects': ['Math', 'History'], 'score': {'Math': 78, 'History': 85}}\n",
      "{'_id': ObjectId('667e326fe30435b684589f59'), 'student_id': 4, 'name': 'David', 'age': 16, 'gender': 'Male', 'grade': 'A', 'subjects': ['Math', 'Science'], 'score': {'Math': 88, 'Science': 91}}\n",
      "{'_id': ObjectId('667e326fe30435b684589f5a'), 'student_id': 5, 'name': 'Eva', 'age': 15, 'gender': 'Female', 'grade': 'B', 'subjects': ['English', 'History'], 'score': {'English': 85, 'History': 78}}\n",
      "{'_id': ObjectId('667e326fe30435b684589f5b'), 'student_id': 6, 'name': 'Fiona', 'age': 14, 'gender': 'Female', 'grade': 'A', 'subjects': ['Math', 'Science', 'History'], 'score': {'Math': 92, 'Science': 90, 'History': 88}}\n",
      "{'_id': ObjectId('667e326fe30435b684589f5d'), 'student_id': 8, 'name': 'Hannah', 'age': 15, 'gender': 'Female', 'grade': 'B', 'subjects': ['Science', 'History', 'Math'], 'score': {'Science': 80, 'History': 75, 'Math': 85}}\n",
      "{'_id': ObjectId('667e326fe30435b684589f5e'), 'student_id': 9, 'name': 'Ian', 'age': 14, 'gender': 'Male', 'grade': 'A', 'subjects': ['English', 'Math', 'Science'], 'score': {'English': 90, 'Math': 94, 'Science': 89}}\n"
     ]
    }
   ],
   "source": [
    "for i in results:\n",
    "    print(i)"
   ]
  },
  {
   "cell_type": "markdown",
   "metadata": {},
   "source": [
    "# Write an aggregation query to calculate the average score in Math for all students."
   ]
  },
  {
   "cell_type": "code",
   "execution_count": 91,
   "metadata": {},
   "outputs": [
    {
     "name": "stdout",
     "output_type": "stream",
     "text": [
      "{'_id': None, 'avgMath_score': 88.66666666666667}\n"
     ]
    }
   ],
   "source": [
    "avg_score=students.aggregate([{'$group':{'_id': None,'avgMath_score':{'$avg' : '$score.Math'}}}])\n",
    "for i in avg_score:\n",
    "    print(i)"
   ]
  },
  {
   "cell_type": "markdown",
   "metadata": {},
   "source": [
    "# aggregation by gender"
   ]
  },
  {
   "cell_type": "code",
   "execution_count": 92,
   "metadata": {},
   "outputs": [
    {
     "name": "stdout",
     "output_type": "stream",
     "text": [
      "{'_id': 'Female', 'avgMath_score': 90.66666666666667}\n",
      "{'_id': 'Male', 'avgMath_score': 86.66666666666667}\n"
     ]
    }
   ],
   "source": [
    "avg_score2=students.aggregate([{'$group':{'_id':'$gender','avgMath_score':{'$avg':'$score.Math'}}}])\n",
    "for i in avg_score2:\n",
    "    print(i)"
   ]
  },
  {
   "cell_type": "code",
   "execution_count": 94,
   "metadata": {},
   "outputs": [
    {
     "name": "stdout",
     "output_type": "stream",
     "text": [
      "{'_id': 'Female', 'avgmath_score': 90.66666666666667}\n"
     ]
    }
   ],
   "source": [
    "avg_score3=students.aggregate([{'$match':{'gender':'Female'}},\n",
    "                               {'$group':{'_id':'$gender','avgmath_score':{'$avg':'$score.Math'}}}])\n",
    "for r in avg_score3:\n",
    "    print(r)"
   ]
  },
  {
   "cell_type": "markdown",
   "metadata": {},
   "source": [
    "# Write an aggregation query to group students by grade and count the number of students in each grade."
   ]
  },
  {
   "cell_type": "code",
   "execution_count": 95,
   "metadata": {},
   "outputs": [
    {
     "name": "stdout",
     "output_type": "stream",
     "text": [
      "{'_id': 'B', 'count': 2}\n",
      "{'_id': 'A', 'count': 5}\n"
     ]
    }
   ],
   "source": [
    "scores=[\n",
    "    {'$group':{'_id':'$grade','count':{'$sum':1}}}\n",
    "]\n",
    "results=students.aggregate(scores)\n",
    "for item in results:\n",
    "    print(item)"
   ]
  }
 ],
 "metadata": {
  "kernelspec": {
   "display_name": "Python 3",
   "language": "python",
   "name": "python3"
  },
  "language_info": {
   "codemirror_mode": {
    "name": "ipython",
    "version": 3
   },
   "file_extension": ".py",
   "mimetype": "text/x-python",
   "name": "python",
   "nbconvert_exporter": "python",
   "pygments_lexer": "ipython3",
   "version": "3.12.3"
  }
 },
 "nbformat": 4,
 "nbformat_minor": 2
}

{
 "cells": [
  {
   "cell_type": "code",
   "execution_count": 1,
   "metadata": {},
   "outputs": [
    {
     "name": "stdout",
     "output_type": "stream",
     "text": [
      "Collecting pymongo\n",
      "  Downloading pymongo-4.8.0-cp312-cp312-win_amd64.whl.metadata (22 kB)\n",
      "Collecting dnspython<3.0.0,>=1.16.0 (from pymongo)\n",
      "  Downloading dnspython-2.6.1-py3-none-any.whl.metadata (5.8 kB)\n",
      "Downloading pymongo-4.8.0-cp312-cp312-win_amd64.whl (680 kB)\n",
      "   ---------------------------------------- 0.0/680.4 kB ? eta -:--:--\n",
      "    --------------------------------------- 10.2/680.4 kB ? eta -:--:--\n",
      "   - ------------------------------------- 30.7/680.4 kB 325.1 kB/s eta 0:00:02\n",
      "   - ------------------------------------- 30.7/680.4 kB 325.1 kB/s eta 0:00:02\n",
      "   - ------------------------------------- 30.7/680.4 kB 325.1 kB/s eta 0:00:02\n",
      "   - ------------------------------------- 30.7/680.4 kB 325.1 kB/s eta 0:00:02\n",
      "   ----- --------------------------------- 92.2/680.4 kB 327.7 kB/s eta 0:00:02\n",
      "   ----- --------------------------------- 92.2/680.4 kB 327.7 kB/s eta 0:00:02\n",
      "   ----- --------------------------------- 92.2/680.4 kB 327.7 kB/s eta 0:00:02\n",
      "   ----- --------------------------------- 92.2/680.4 kB 327.7 kB/s eta 0:00:02\n",
      "   ----- --------------------------------- 92.2/680.4 kB 327.7 kB/s eta 0:00:02\n",
      "   ----- --------------------------------- 92.2/680.4 kB 327.7 kB/s eta 0:00:02\n",
      "   ----- --------------------------------- 92.2/680.4 kB 327.7 kB/s eta 0:00:02\n",
      "   ----- --------------------------------- 92.2/680.4 kB 327.7 kB/s eta 0:00:02\n",
      "   --------- ---------------------------- 163.8/680.4 kB 239.6 kB/s eta 0:00:03\n",
      "   ----------- -------------------------- 204.8/680.4 kB 282.8 kB/s eta 0:00:02\n",
      "   ------------- ------------------------ 245.8/680.4 kB 327.6 kB/s eta 0:00:02\n",
      "   -------------- ----------------------- 256.0/680.4 kB 314.7 kB/s eta 0:00:02\n",
      "   ---------------- --------------------- 286.7/680.4 kB 333.9 kB/s eta 0:00:02\n",
      "   -------------------- ----------------- 358.4/680.4 kB 397.9 kB/s eta 0:00:01\n",
      "   -------------------- ----------------- 358.4/680.4 kB 397.9 kB/s eta 0:00:01\n",
      "   -------------------- ----------------- 358.4/680.4 kB 397.9 kB/s eta 0:00:01\n",
      "   --------------------- ---------------- 389.1/680.4 kB 378.9 kB/s eta 0:00:01\n",
      "   ----------------------------- -------- 522.2/680.4 kB 481.7 kB/s eta 0:00:01\n",
      "   ----------------------------- -------- 522.2/680.4 kB 481.7 kB/s eta 0:00:01\n",
      "   ----------------------------- -------- 522.2/680.4 kB 481.7 kB/s eta 0:00:01\n",
      "   ----------------------------- -------- 522.2/680.4 kB 481.7 kB/s eta 0:00:01\n",
      "   ----------------------------- -------- 522.2/680.4 kB 481.7 kB/s eta 0:00:01\n",
      "   ----------------------------- -------- 522.2/680.4 kB 481.7 kB/s eta 0:00:01\n",
      "   ----------------------------- -------- 522.2/680.4 kB 481.7 kB/s eta 0:00:01\n",
      "   ----------------------------- -------- 522.2/680.4 kB 481.7 kB/s eta 0:00:01\n",
      "   ------------------------------ ------- 553.0/680.4 kB 377.4 kB/s eta 0:00:01\n",
      "   -------------------------------- ----- 583.7/680.4 kB 382.3 kB/s eta 0:00:01\n",
      "   --------------------------------- ---- 604.2/680.4 kB 387.9 kB/s eta 0:00:01\n",
      "   ---------------------------------- --- 614.4/680.4 kB 386.5 kB/s eta 0:00:01\n",
      "   ------------------------------------ - 655.4/680.4 kB 393.1 kB/s eta 0:00:01\n",
      "   ------------------------------------ - 655.4/680.4 kB 393.1 kB/s eta 0:00:01\n",
      "   ------------------------------------ - 655.4/680.4 kB 393.1 kB/s eta 0:00:01\n",
      "   -------------------------------------- 680.4/680.4 kB 379.5 kB/s eta 0:00:00\n",
      "Downloading dnspython-2.6.1-py3-none-any.whl (307 kB)\n",
      "   ---------------------------------------- 0.0/307.7 kB ? eta -:--:--\n",
      "   ---------- ----------------------------- 81.9/307.7 kB 2.3 MB/s eta 0:00:01\n",
      "   ------------------ --------------------- 143.4/307.7 kB 1.7 MB/s eta 0:00:01\n",
      "   ---------------------- ----------------- 174.1/307.7 kB 1.8 MB/s eta 0:00:01\n",
      "   ---------------------- ----------------- 174.1/307.7 kB 1.8 MB/s eta 0:00:01\n",
      "   ---------------------- ----------------- 174.1/307.7 kB 1.8 MB/s eta 0:00:01\n",
      "   ---------------------- ----------------- 174.1/307.7 kB 1.8 MB/s eta 0:00:01\n",
      "   ---------------------- ----------------- 174.1/307.7 kB 1.8 MB/s eta 0:00:01\n",
      "   ------------------------ ------------- 194.6/307.7 kB 491.5 kB/s eta 0:00:01\n",
      "   --------------------------- ---------- 225.3/307.7 kB 509.6 kB/s eta 0:00:01\n",
      "   ------------------------------ ------- 245.8/307.7 kB 519.9 kB/s eta 0:00:01\n",
      "   -------------------------------------- 307.7/307.7 kB 594.9 kB/s eta 0:00:00\n",
      "Installing collected packages: dnspython, pymongo\n",
      "Successfully installed dnspython-2.6.1 pymongo-4.8.0\n",
      "Note: you may need to restart the kernel to use updated packages.\n"
     ]
    },
    {
     "name": "stderr",
     "output_type": "stream",
     "text": [
      "\n",
      "[notice] A new release of pip is available: 24.0 -> 24.1.1\n",
      "[notice] To update, run: python.exe -m pip install --upgrade pip\n"
     ]
    }
   ],
   "source": [
    "pip install pymongo"
   ]
  },
  {
   "cell_type": "code",
   "execution_count": 2,
   "metadata": {},
   "outputs": [],
   "source": [
    "import pymongo"
   ]
  },
  {
   "cell_type": "code",
   "execution_count": 4,
   "metadata": {},
   "outputs": [],
   "source": [
    "from pymongo import MongoClient"
   ]
  },
  {
   "cell_type": "code",
   "execution_count": 5,
   "metadata": {},
   "outputs": [],
   "source": [
    "Client=MongoClient('localhost',27017)#localhost from mongo compass"
   ]
  },
  {
   "cell_type": "code",
   "execution_count": 17,
   "metadata": {},
   "outputs": [],
   "source": [
    "db=Client.trial\n"
   ]
  },
  {
   "cell_type": "code",
   "execution_count": 15,
   "metadata": {},
   "outputs": [
    {
     "data": {
      "text/plain": [
       "Database(MongoClient(host=['localhost:27017'], document_class=dict, tz_aware=False, connect=True), 'trial')"
      ]
     },
     "execution_count": 15,
     "metadata": {},
     "output_type": "execute_result"
    }
   ],
   "source": [
    "db"
   ]
  },
  {
   "cell_type": "code",
   "execution_count": 14,
   "metadata": {},
   "outputs": [
    {
     "data": {
      "text/plain": [
       "['admin', 'config', 'local', 'trial']"
      ]
     },
     "execution_count": 14,
     "metadata": {},
     "output_type": "execute_result"
    }
   ],
   "source": [
    "Client.list_database_names()"
   ]
  },
  {
   "cell_type": "code",
   "execution_count": 11,
   "metadata": {},
   "outputs": [
    {
     "name": "stdout",
     "output_type": "stream",
     "text": [
      "['admin', 'config', 'local', 'trial']\n"
     ]
    }
   ],
   "source": [
    "database=Client.list_database_names()\n",
    "print(database)"
   ]
  },
  {
   "cell_type": "code",
   "execution_count": 19,
   "metadata": {},
   "outputs": [],
   "source": [
    "trial2=db.trial2\n"
   ]
  },
  {
   "cell_type": "code",
   "execution_count": 23,
   "metadata": {},
   "outputs": [
    {
     "data": {
      "text/plain": [
       "150"
      ]
     },
     "execution_count": 23,
     "metadata": {},
     "output_type": "execute_result"
    }
   ],
   "source": [
    "trial2.count_documents({})"
   ]
  },
  {
   "cell_type": "code",
   "execution_count": 24,
   "metadata": {},
   "outputs": [
    {
     "data": {
      "text/plain": [
       "<pymongo.cursor.Cursor at 0x1ee0ef77890>"
      ]
     },
     "execution_count": 24,
     "metadata": {},
     "output_type": "execute_result"
    }
   ],
   "source": [
    "trial2.find().limit(5)"
   ]
  },
  {
   "cell_type": "code",
   "execution_count": 28,
   "metadata": {},
   "outputs": [
    {
     "name": "stdout",
     "output_type": "stream",
     "text": [
      "Top\n",
      "Mid\n",
      "Mid\n"
     ]
    }
   ],
   "source": [
    "rows=trial2.find().limit(3)\n",
    "for rows in rows:\n",
    "    print(rows['Role'])"
   ]
  },
  {
   "cell_type": "code",
   "execution_count": 39,
   "metadata": {},
   "outputs": [
    {
     "name": "stdout",
     "output_type": "stream",
     "text": [
      "{'_id': ObjectId('667df0037e36643340e72af5'), 'Base Armor': [21]}\n",
      "{'_id': ObjectId('667df0037e36643340e72af6'), 'Base Armor': [21]}\n",
      "{'_id': ObjectId('667df0037e36643340e72af7'), 'Base Armor': [21]}\n",
      "{'_id': ObjectId('667df0037e36643340e72af8'), 'Base Armor': [21]}\n",
      "{'_id': ObjectId('667df0037e36643340e72af9'), 'Base Armor': [21]}\n",
      "{'_id': ObjectId('667df0037e36643340e72afa'), 'Base Armor': [21]}\n",
      "{'_id': ObjectId('667df0037e36643340e72afb'), 'Base Armor': [21]}\n",
      "{'_id': ObjectId('667df0037e36643340e72afc'), 'Base Armor': [21]}\n",
      "{'_id': ObjectId('667df0037e36643340e72afd'), 'Base Armor': [21]}\n",
      "{'_id': ObjectId('667df0037e36643340e72afe'), 'Base Armor': [21]}\n",
      "{'_id': ObjectId('667df0037e36643340e72aff'), 'Base Armor': [21]}\n",
      "{'_id': ObjectId('667df0037e36643340e72b00'), 'Base Armor': [21]}\n",
      "{'_id': ObjectId('667df0037e36643340e72b01'), 'Base Armor': [21]}\n",
      "{'_id': ObjectId('667df0037e36643340e72b02'), 'Base Armor': [21]}\n",
      "{'_id': ObjectId('667df0037e36643340e72b03'), 'Base Armor': [21]}\n",
      "{'_id': ObjectId('667df0037e36643340e72b04'), 'Base Armor': [21]}\n",
      "{'_id': ObjectId('667df0037e36643340e72b05'), 'Base Armor': [21]}\n",
      "{'_id': ObjectId('667df0037e36643340e72b06'), 'Base Armor': [21]}\n",
      "{'_id': ObjectId('667df0037e36643340e72b07'), 'Base Armor': [21]}\n",
      "{'_id': ObjectId('667df0037e36643340e72b08'), 'Base Armor': [21]}\n",
      "{'_id': ObjectId('667df0037e36643340e72b09'), 'Base Armor': [21]}\n",
      "{'_id': ObjectId('667df0037e36643340e72b0a'), 'Base Armor': [21]}\n",
      "{'_id': ObjectId('667df0037e36643340e72b0b'), 'Base Armor': [21]}\n",
      "{'_id': ObjectId('667df0037e36643340e72b0c'), 'Base Armor': [21]}\n",
      "{'_id': ObjectId('667df0037e36643340e72b0d'), 'Base Armor': [21]}\n",
      "{'_id': ObjectId('667df0037e36643340e72b0e'), 'Base Armor': [21]}\n",
      "{'_id': ObjectId('667df0037e36643340e72b0f'), 'Base Armor': [21]}\n",
      "{'_id': ObjectId('667df0037e36643340e72b10'), 'Base Armor': [21]}\n",
      "{'_id': ObjectId('667df0037e36643340e72b11'), 'Base Armor': [21]}\n",
      "{'_id': ObjectId('667df0037e36643340e72b12'), 'Base Armor': [21]}\n",
      "{'_id': ObjectId('667df0037e36643340e72b13'), 'Base Armor': [21]}\n",
      "{'_id': ObjectId('667df0037e36643340e72b14'), 'Base Armor': [21]}\n",
      "{'_id': ObjectId('667df0037e36643340e72b15'), 'Base Armor': [21]}\n",
      "{'_id': ObjectId('667df0037e36643340e72b16'), 'Base Armor': [21]}\n",
      "{'_id': ObjectId('667df0037e36643340e72b17'), 'Base Armor': [21]}\n",
      "{'_id': ObjectId('667df0037e36643340e72b18'), 'Base Armor': [21]}\n",
      "{'_id': ObjectId('667df0037e36643340e72b19'), 'Base Armor': [21]}\n",
      "{'_id': ObjectId('667df0037e36643340e72b1a'), 'Base Armor': [21]}\n",
      "{'_id': ObjectId('667df0037e36643340e72b1b'), 'Base Armor': [21]}\n",
      "{'_id': ObjectId('667df0037e36643340e72b1c'), 'Base Armor': [21]}\n",
      "{'_id': ObjectId('667df0037e36643340e72b1d'), 'Base Armor': [21]}\n",
      "{'_id': ObjectId('667df0037e36643340e72b1e'), 'Base Armor': [21]}\n",
      "{'_id': ObjectId('667df0037e36643340e72b1f'), 'Base Armor': [21]}\n",
      "{'_id': ObjectId('667df0037e36643340e72b20'), 'Base Armor': [21]}\n",
      "{'_id': ObjectId('667df0037e36643340e72b21'), 'Base Armor': [21]}\n",
      "{'_id': ObjectId('667df0037e36643340e72b22'), 'Base Armor': [21]}\n",
      "{'_id': ObjectId('667df0037e36643340e72b23'), 'Base Armor': [21]}\n",
      "{'_id': ObjectId('667df0037e36643340e72b24'), 'Base Armor': [21]}\n",
      "{'_id': ObjectId('667df0037e36643340e72b25'), 'Base Armor': [21]}\n",
      "{'_id': ObjectId('667df0037e36643340e72b26'), 'Base Armor': [21]}\n",
      "{'_id': ObjectId('667df0037e36643340e72b27'), 'Base Armor': [21]}\n",
      "{'_id': ObjectId('667df0037e36643340e72b28'), 'Base Armor': [21]}\n",
      "{'_id': ObjectId('667df0037e36643340e72b29'), 'Base Armor': [21]}\n",
      "{'_id': ObjectId('667df0037e36643340e72b2a'), 'Base Armor': [21]}\n",
      "{'_id': ObjectId('667df0037e36643340e72b2b'), 'Base Armor': [21]}\n",
      "{'_id': ObjectId('667df0037e36643340e72b2c'), 'Base Armor': [21]}\n",
      "{'_id': ObjectId('667df0037e36643340e72b2d'), 'Base Armor': [21]}\n",
      "{'_id': ObjectId('667df0037e36643340e72b2e'), 'Base Armor': [21]}\n",
      "{'_id': ObjectId('667df0037e36643340e72b2f'), 'Base Armor': [21]}\n",
      "{'_id': ObjectId('667df0037e36643340e72b30'), 'Base Armor': [21]}\n",
      "{'_id': ObjectId('667df0037e36643340e72b31'), 'Base Armor': [21]}\n",
      "{'_id': ObjectId('667df0037e36643340e72b32'), 'Base Armor': [21]}\n",
      "{'_id': ObjectId('667df0037e36643340e72b33'), 'Base Armor': [21]}\n",
      "{'_id': ObjectId('667df0037e36643340e72b34'), 'Base Armor': [21]}\n",
      "{'_id': ObjectId('667df0037e36643340e72b35'), 'Base Armor': [21]}\n",
      "{'_id': ObjectId('667df0037e36643340e72b36'), 'Base Armor': [21]}\n",
      "{'_id': ObjectId('667df0037e36643340e72b37'), 'Base Armor': [21]}\n",
      "{'_id': ObjectId('667df0037e36643340e72b38'), 'Base Armor': [21]}\n",
      "{'_id': ObjectId('667df0037e36643340e72b39'), 'Base Armor': [21]}\n",
      "{'_id': ObjectId('667df0037e36643340e72b3a'), 'Base Armor': [21]}\n",
      "{'_id': ObjectId('667df0037e36643340e72b3b'), 'Base Armor': [21]}\n",
      "{'_id': ObjectId('667df0037e36643340e72b3c'), 'Base Armor': [21]}\n",
      "{'_id': ObjectId('667df0037e36643340e72b3d'), 'Base Armor': [21]}\n",
      "{'_id': ObjectId('667df0037e36643340e72b3e'), 'Base Armor': [21]}\n",
      "{'_id': ObjectId('667df0037e36643340e72b3f'), 'Base Armor': [21]}\n",
      "{'_id': ObjectId('667df0037e36643340e72b40'), 'Base Armor': [21]}\n",
      "{'_id': ObjectId('667df0037e36643340e72b41'), 'Base Armor': [21]}\n",
      "{'_id': ObjectId('667df0037e36643340e72b42'), 'Base Armor': [21]}\n",
      "{'_id': ObjectId('667df0037e36643340e72b43'), 'Base Armor': [21]}\n",
      "{'_id': ObjectId('667df0037e36643340e72b44'), 'Base Armor': [21]}\n",
      "{'_id': ObjectId('667df0037e36643340e72b45'), 'Base Armor': [21]}\n",
      "{'_id': ObjectId('667df0037e36643340e72b46'), 'Base Armor': [21]}\n",
      "{'_id': ObjectId('667df0037e36643340e72b47'), 'Base Armor': [21]}\n",
      "{'_id': ObjectId('667df0037e36643340e72b48'), 'Base Armor': [21]}\n",
      "{'_id': ObjectId('667df0037e36643340e72b49'), 'Base Armor': [21]}\n",
      "{'_id': ObjectId('667df0037e36643340e72b4a'), 'Base Armor': [21]}\n",
      "{'_id': ObjectId('667df0037e36643340e72b4b'), 'Base Armor': [21]}\n",
      "{'_id': ObjectId('667df0037e36643340e72b4c'), 'Base Armor': [21]}\n",
      "{'_id': ObjectId('667df0037e36643340e72b4d'), 'Base Armor': [21]}\n",
      "{'_id': ObjectId('667df0037e36643340e72b4e'), 'Base Armor': [21]}\n",
      "{'_id': ObjectId('667df0037e36643340e72b4f'), 'Base Armor': [21]}\n",
      "{'_id': ObjectId('667df0037e36643340e72b50'), 'Base Armor': [21]}\n",
      "{'_id': ObjectId('667df0037e36643340e72b51'), 'Base Armor': [21]}\n",
      "{'_id': ObjectId('667df0037e36643340e72b52'), 'Base Armor': [21]}\n",
      "{'_id': ObjectId('667df0037e36643340e72b53'), 'Base Armor': [21]}\n",
      "{'_id': ObjectId('667df0037e36643340e72b54'), 'Base Armor': [21]}\n",
      "{'_id': ObjectId('667df0037e36643340e72b55'), 'Base Armor': [21]}\n",
      "{'_id': ObjectId('667df0037e36643340e72b56'), 'Base Armor': [21]}\n",
      "{'_id': ObjectId('667df0037e36643340e72b57'), 'Base Armor': [21]}\n",
      "{'_id': ObjectId('667df0037e36643340e72b58'), 'Base Armor': [21]}\n",
      "{'_id': ObjectId('667df0037e36643340e72b59'), 'Base Armor': [21]}\n",
      "{'_id': ObjectId('667df0037e36643340e72b5a'), 'Base Armor': [21]}\n",
      "{'_id': ObjectId('667df0037e36643340e72b5b'), 'Base Armor': [21]}\n",
      "{'_id': ObjectId('667df0037e36643340e72b5c'), 'Base Armor': [21]}\n",
      "{'_id': ObjectId('667df0037e36643340e72b5d'), 'Base Armor': [21]}\n",
      "{'_id': ObjectId('667df0037e36643340e72b5e'), 'Base Armor': [21]}\n",
      "{'_id': ObjectId('667df0037e36643340e72b5f'), 'Base Armor': [21]}\n",
      "{'_id': ObjectId('667df0037e36643340e72b60'), 'Base Armor': [21]}\n",
      "{'_id': ObjectId('667df0037e36643340e72b61'), 'Base Armor': [21]}\n",
      "{'_id': ObjectId('667df0037e36643340e72b62'), 'Base Armor': [21]}\n",
      "{'_id': ObjectId('667df0037e36643340e72b63'), 'Base Armor': [21]}\n",
      "{'_id': ObjectId('667df0037e36643340e72b64'), 'Base Armor': [21]}\n",
      "{'_id': ObjectId('667df0037e36643340e72b65'), 'Base Armor': [21]}\n",
      "{'_id': ObjectId('667df0037e36643340e72b66'), 'Base Armor': [21]}\n",
      "{'_id': ObjectId('667df0037e36643340e72b67'), 'Base Armor': [21]}\n",
      "{'_id': ObjectId('667df0037e36643340e72b68'), 'Base Armor': [21]}\n",
      "{'_id': ObjectId('667df0037e36643340e72b69'), 'Base Armor': [21]}\n",
      "{'_id': ObjectId('667df0037e36643340e72b6a'), 'Base Armor': [21]}\n",
      "{'_id': ObjectId('667df0037e36643340e72b6b'), 'Base Armor': [21]}\n",
      "{'_id': ObjectId('667df0037e36643340e72b6c'), 'Base Armor': [21]}\n",
      "{'_id': ObjectId('667df0037e36643340e72b6d'), 'Base Armor': [21]}\n",
      "{'_id': ObjectId('667df0037e36643340e72b6e'), 'Base Armor': [21]}\n",
      "{'_id': ObjectId('667df0037e36643340e72b6f'), 'Base Armor': [21]}\n",
      "{'_id': ObjectId('667df0037e36643340e72b70'), 'Base Armor': [21]}\n",
      "{'_id': ObjectId('667df0037e36643340e72b71'), 'Base Armor': [21]}\n",
      "{'_id': ObjectId('667df0037e36643340e72b72'), 'Base Armor': [21]}\n",
      "{'_id': ObjectId('667df0037e36643340e72b73'), 'Base Armor': [21]}\n",
      "{'_id': ObjectId('667df0037e36643340e72b74'), 'Base Armor': [21]}\n",
      "{'_id': ObjectId('667df0037e36643340e72b75'), 'Base Armor': [21]}\n",
      "{'_id': ObjectId('667df0037e36643340e72b76'), 'Base Armor': [21]}\n",
      "{'_id': ObjectId('667df0037e36643340e72b77'), 'Base Armor': [21]}\n",
      "{'_id': ObjectId('667df0037e36643340e72b78'), 'Base Armor': [21]}\n",
      "{'_id': ObjectId('667df0037e36643340e72b79'), 'Base Armor': [21]}\n",
      "{'_id': ObjectId('667df0037e36643340e72b7a'), 'Base Armor': [21]}\n",
      "{'_id': ObjectId('667df0037e36643340e72b7b'), 'Base Armor': [21]}\n",
      "{'_id': ObjectId('667df0037e36643340e72b7c'), 'Base Armor': [21]}\n",
      "{'_id': ObjectId('667df0037e36643340e72b7d'), 'Base Armor': [21]}\n",
      "{'_id': ObjectId('667df0037e36643340e72b7e'), 'Base Armor': [21]}\n",
      "{'_id': ObjectId('667df0037e36643340e72b7f'), 'Base Armor': [21]}\n",
      "{'_id': ObjectId('667df0037e36643340e72b80'), 'Base Armor': [21]}\n",
      "{'_id': ObjectId('667df0037e36643340e72b81'), 'Base Armor': [21]}\n",
      "{'_id': ObjectId('667df0037e36643340e72b82'), 'Base Armor': [21]}\n",
      "{'_id': ObjectId('667df0037e36643340e72b83'), 'Base Armor': [21]}\n",
      "{'_id': ObjectId('667df0037e36643340e72b84'), 'Base Armor': [21]}\n",
      "{'_id': ObjectId('667df0037e36643340e72b85'), 'Base Armor': [21]}\n",
      "{'_id': ObjectId('667df0037e36643340e72b86'), 'Base Armor': [21]}\n",
      "{'_id': ObjectId('667df0037e36643340e72b87'), 'Base Armor': [21]}\n",
      "{'_id': ObjectId('667df0037e36643340e72b88'), 'Base Armor': [21]}\n",
      "{'_id': ObjectId('667df0037e36643340e72b89'), 'Base Armor': [21]}\n",
      "{'_id': ObjectId('667df0037e36643340e72b8a'), 'Base Armor': [21]}\n"
     ]
    }
   ],
   "source": [
    "#Select more than 1 column\n",
    "for i in trial2.find({},{'Gold Effeciency':1.03,'Base Armor':[21]}):\n",
    "    print(i)"
   ]
  },
  {
   "cell_type": "code",
   "execution_count": 35,
   "metadata": {},
   "outputs": [
    {
     "name": "stdout",
     "output_type": "stream",
     "text": [
      "{'_id': ObjectId('667df0037e36643340e72af6'), 'Champion Name': 'Ahri', 'Role': 'Mid', 'Base Health': 526, 'Base Mana': 418, 'Base Armor': 21, 'Base Attack Damage': 53, 'Gold Efficiency': 1.02}\n",
      "{'_id': ObjectId('667df0037e36643340e72afa'), 'Champion Name': 'Anivia', 'Role': 'Mid', 'Base Health': 480, 'Base Mana': 495, 'Base Armor': 21, 'Base Attack Damage': 51, 'Gold Efficiency': 1.01}\n",
      "{'_id': ObjectId('667df0037e36643340e72b25'), 'Champion Name': 'Kalista', 'Role': 'ADC', 'Base Health': 534, 'Base Mana': 250, 'Base Armor': 21, 'Base Attack Damage': 69, 'Gold Efficiency': 1.05}\n"
     ]
    }
   ],
   "source": [
    "#selecting based on acondition\n",
    "for i in trial2.find({'Base Armor':21}).limit(3):\n",
    "    print(i)"
   ]
  },
  {
   "cell_type": "code",
   "execution_count": 38,
   "metadata": {},
   "outputs": [
    {
     "data": {
      "text/plain": [
       "39"
      ]
     },
     "execution_count": 38,
     "metadata": {},
     "output_type": "execute_result"
    }
   ],
   "source": [
    "trial2.count_documents({'Role':\"Mid\"})"
   ]
  },
  {
   "cell_type": "markdown",
   "metadata": {},
   "source": [
    "camel case --- mongoql\n",
    "countdocument()...count_documents\n",
    "updateone...update-One\n",
    "insertone...insert-One"
   ]
  },
  {
   "cell_type": "code",
   "execution_count": null,
   "metadata": {},
   "outputs": [],
   "source": []
  }
 ],
 "metadata": {
  "kernelspec": {
   "display_name": "Python 3",
   "language": "python",
   "name": "python3"
  },
  "language_info": {
   "codemirror_mode": {
    "name": "ipython",
    "version": 3
   },
   "file_extension": ".py",
   "mimetype": "text/x-python",
   "name": "python",
   "nbconvert_exporter": "python",
   "pygments_lexer": "ipython3",
   "version": "3.12.3"
  }
 },
 "nbformat": 4,
 "nbformat_minor": 2
}
